{
  "nbformat": 4,
  "nbformat_minor": 0,
  "metadata": {
    "colab": {
      "name": "model.ipynb",
      "provenance": [],
      "machine_shape": "hm",
      "authorship_tag": "ABX9TyOrW0lO7fsbES1fdBLlO8sY"
    },
    "kernelspec": {
      "name": "python3",
      "display_name": "Python 3"
    },
    "accelerator": "GPU"
  },
  "cells": [
    {
      "cell_type": "code",
      "metadata": {
        "id": "CnLOZhASlpYU",
        "colab_type": "code",
        "colab": {}
      },
      "source": [
        "# Imports\n",
        "import numpy as np\n",
        "import tensorflow as tf\n",
        "import tensorflow.keras.optimizers\n",
        "import tensorflow.keras.losses"
      ],
      "execution_count": 0,
      "outputs": []
    },
    {
      "cell_type": "markdown",
      "metadata": {
        "id": "2NHa8LqG1PPL",
        "colab_type": "text"
      },
      "source": [
        "## Import and check data"
      ]
    },
    {
      "cell_type": "code",
      "metadata": {
        "id": "sJ2csDtHhwjh",
        "colab_type": "code",
        "colab": {
          "base_uri": "https://localhost:8080/",
          "height": 118
        },
        "outputId": "a23a70ed-4bd7-4739-bd37-64db04f629c2"
      },
      "source": [
        "# Mount drive to access files\n",
        "\n",
        "from google.colab import drive\n",
        "drive.mount('/content/drive')"
      ],
      "execution_count": 2,
      "outputs": [
        {
          "output_type": "stream",
          "text": [
            "Go to this URL in a browser: https://accounts.google.com/o/oauth2/auth?client_id=947318989803-6bn6qk8qdgf4n4g3pfee6491hc0brc4i.apps.googleusercontent.com&redirect_uri=urn%3aietf%3awg%3aoauth%3a2.0%3aoob&response_type=code&scope=email%20https%3a%2f%2fwww.googleapis.com%2fauth%2fdocs.test%20https%3a%2f%2fwww.googleapis.com%2fauth%2fdrive%20https%3a%2f%2fwww.googleapis.com%2fauth%2fdrive.photos.readonly%20https%3a%2f%2fwww.googleapis.com%2fauth%2fpeopleapi.readonly\n",
            "\n",
            "Enter your authorization code:\n",
            "··········\n",
            "Mounted at /content/drive\n"
          ],
          "name": "stdout"
        }
      ]
    },
    {
      "cell_type": "code",
      "metadata": {
        "id": "TK1-jvEHkhkM",
        "colab_type": "code",
        "colab": {}
      },
      "source": [
        "# Paths\n",
        "train_y_path = \"/content/drive/My Drive/DD2424Files/train_y.npz\"\n",
        "val_y_path   = \"/content/drive/My Drive/DD2424Files/val_y.npz\"\n",
        "test_y_path  = \"/content/drive/My Drive/DD2424Files/test_y.npz\"\n",
        "\n",
        "train_X_path = \"/content/drive/My Drive/DD2424Files/train_X.npz\"\n",
        "val_X_path   = \"/content/drive/My Drive/DD2424Files/val_X.npz\"\n",
        "test_X_path  = \"/content/drive/My Drive/DD2424Files/test_X.npz\""
      ],
      "execution_count": 0,
      "outputs": []
    },
    {
      "cell_type": "code",
      "metadata": {
        "id": "Wz42DCwnlNSb",
        "colab_type": "code",
        "colab": {}
      },
      "source": [
        "# Import training and validation data\n",
        "train_y = np.load(train_y_path)['arr_0']\n",
        "train_y = tf.one_hot(train_y, 8)\n",
        "\n",
        "val_y = np.load(val_y_path)['arr_0']\n",
        "val_y = tf.one_hot(val_y, 8)\n",
        "\n",
        "train_X = np.load(train_X_path)['arr_0']\n",
        "val_X = np.load(val_X_path)['arr_0']"
      ],
      "execution_count": 0,
      "outputs": []
    },
    {
      "cell_type": "code",
      "metadata": {
        "id": "_Uli9KOIl66I",
        "colab_type": "code",
        "colab": {}
      },
      "source": [
        "# Assert assumptions about data\n",
        "\n",
        "MEL_BINS   = 96\n",
        "TIME_STEPS = 1405\n",
        "\n",
        "def check_data(X, y):\n",
        "  assert len(y.shape) == 2\n",
        "  assert len(X.shape) == 3\n",
        "  assert y.shape[0] == X.shape[0]\n",
        "  assert X.shape[1] == MEL_BINS\n",
        "  assert X.shape[2] == TIME_STEPS\n",
        "\n",
        "check_data(val_X, val_y)\n",
        "check_data(train_X, train_y)"
      ],
      "execution_count": 0,
      "outputs": []
    },
    {
      "cell_type": "markdown",
      "metadata": {
        "id": "Nb8UYWuu1xMj",
        "colab_type": "text"
      },
      "source": [
        "## The model"
      ]
    },
    {
      "cell_type": "code",
      "metadata": {
        "id": "kwasJAxusnXB",
        "colab_type": "code",
        "colab": {}
      },
      "source": [
        "model = tf.keras.models.Sequential([\n",
        "  tf.keras.layers.Flatten(input_shape=(96, 1405)),\n",
        "  #tf.keras.layers.Dense(8, activation='relu'),\n",
        "  #tf.keras.layers.Dropout(0.2),\n",
        "  tf.keras.layers.Dense(8)\n",
        "])"
      ],
      "execution_count": 0,
      "outputs": []
    },
    {
      "cell_type": "code",
      "metadata": {
        "id": "mOZbqPUEAwTe",
        "colab_type": "code",
        "colab": {
          "base_uri": "https://localhost:8080/",
          "height": 230
        },
        "outputId": "53ba57ab-1be3-4b25-f815-e723bc2b6ee3"
      },
      "source": [
        "# Compiling model\n",
        "\n",
        "optimizer = tf.keras.optimizers.Adam()\n",
        "loss = tf.keras.losses.CategoricalCrossentropy(from_logits = True)\n",
        "metrics = ['accuracy']\n",
        "\n",
        "\n",
        "model.compile(optimizer = optimizer, loss = loss, metrics = metrics)\n",
        "print(model.summary())"
      ],
      "execution_count": 17,
      "outputs": [
        {
          "output_type": "stream",
          "text": [
            "Model: \"sequential_3\"\n",
            "_________________________________________________________________\n",
            "Layer (type)                 Output Shape              Param #   \n",
            "=================================================================\n",
            "flatten_3 (Flatten)          (None, 134880)            0         \n",
            "_________________________________________________________________\n",
            "dense_6 (Dense)              (None, 8)                 1079048   \n",
            "=================================================================\n",
            "Total params: 1,079,048\n",
            "Trainable params: 1,079,048\n",
            "Non-trainable params: 0\n",
            "_________________________________________________________________\n",
            "None\n"
          ],
          "name": "stdout"
        }
      ]
    },
    {
      "cell_type": "code",
      "metadata": {
        "id": "7IoPP5XEA30h",
        "colab_type": "code",
        "colab": {}
      },
      "source": [
        "# Train model\n",
        "BATCH_SIZE = 32\n",
        "EPOCHS = 100\n",
        "history = model.fit(train_X, train_y, batch_size=BATCH_SIZE, epochs=EPOCHS,\n",
        "                        validation_data=(val_X, val_y), verbose=1)"
      ],
      "execution_count": 0,
      "outputs": []
    },
    {
      "cell_type": "code",
      "metadata": {
        "id": "RS3gTC8pgLF9",
        "colab_type": "code",
        "colab": {}
      },
      "source": [
        "# Plot results"
      ],
      "execution_count": 0,
      "outputs": []
    }
  ]
}