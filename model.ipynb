{
  "nbformat": 4,
  "nbformat_minor": 0,
  "metadata": {
    "colab": {
      "name": "model.ipynb",
      "provenance": [],
      "collapsed_sections": [],
      "machine_shape": "hm",
      "authorship_tag": "ABX9TyP+L8BK+AaYf+h1cwgEl1mZ"
    },
    "kernelspec": {
      "name": "python3",
      "display_name": "Python 3"
    },
    "accelerator": "GPU"
  },
  "cells": [
    {
      "cell_type": "code",
      "metadata": {
        "id": "H29omXkU6Nmx",
        "colab_type": "code",
        "colab": {
          "base_uri": "https://localhost:8080/",
          "height": 828
        },
        "outputId": "f2e6fbb3-ebf5-4615-c5ca-a578d85efd73"
      },
      "source": [
        "!pip install tf-nightly-gpu"
      ],
      "execution_count": 6,
      "outputs": [
        {
          "output_type": "stream",
          "text": [
            "Collecting tf-nightly-gpu\n",
            "\u001b[?25l  Downloading https://files.pythonhosted.org/packages/86/a5/269c95f60d7bcd1fcc06032061f3732e6b7ebdbd4bba84d12ce670f6fdc9/tf_nightly_gpu-2.2.0.dev20200508-cp36-cp36m-manylinux2010_x86_64.whl (521.9MB)\n",
            "\u001b[K     |████████████████████████████████| 521.9MB 28kB/s \n",
            "\u001b[?25hRequirement already satisfied: wheel>=0.26; python_version >= \"3\" in /usr/local/lib/python3.6/dist-packages (from tf-nightly-gpu) (0.34.2)\n",
            "Requirement already satisfied: absl-py>=0.7.0 in /usr/local/lib/python3.6/dist-packages (from tf-nightly-gpu) (0.9.0)\n",
            "Requirement already satisfied: six>=1.12.0 in /usr/local/lib/python3.6/dist-packages (from tf-nightly-gpu) (1.12.0)\n",
            "Requirement already satisfied: google-pasta>=0.1.8 in /usr/local/lib/python3.6/dist-packages (from tf-nightly-gpu) (0.2.0)\n",
            "Collecting tb-nightly<2.4.0a0,>=2.3.0a0\n",
            "\u001b[?25l  Downloading https://files.pythonhosted.org/packages/44/2d/436a8addb5b16877281565bec361dae58bc62c30a0279f020532ff81753a/tb_nightly-2.3.0a20200511-py3-none-any.whl (2.9MB)\n",
            "\u001b[K     |████████████████████████████████| 3.0MB 40.7MB/s \n",
            "\u001b[?25hCollecting tf-estimator-nightly\n",
            "\u001b[?25l  Downloading https://files.pythonhosted.org/packages/cc/4b/bdf12f4cc00717cf1f5b8d59dd69284724375fefa7d81049874d30f23e5f/tf_estimator_nightly-2.3.0.dev2020051101-py2.py3-none-any.whl (456kB)\n",
            "\u001b[K     |████████████████████████████████| 460kB 44.6MB/s \n",
            "\u001b[?25hRequirement already satisfied: scipy==1.4.1; python_version >= \"3\" in /usr/local/lib/python3.6/dist-packages (from tf-nightly-gpu) (1.4.1)\n",
            "Requirement already satisfied: astunparse==1.6.3 in /usr/local/lib/python3.6/dist-packages (from tf-nightly-gpu) (1.6.3)\n",
            "Requirement already satisfied: gast==0.3.3 in /usr/local/lib/python3.6/dist-packages (from tf-nightly-gpu) (0.3.3)\n",
            "Requirement already satisfied: h5py<2.11.0,>=2.10.0 in /usr/local/lib/python3.6/dist-packages (from tf-nightly-gpu) (2.10.0)\n",
            "Requirement already satisfied: keras-preprocessing>=1.1.0 in /usr/local/lib/python3.6/dist-packages (from tf-nightly-gpu) (1.1.0)\n",
            "Requirement already satisfied: numpy<2.0,>=1.16.0 in /usr/local/lib/python3.6/dist-packages (from tf-nightly-gpu) (1.18.4)\n",
            "Requirement already satisfied: opt-einsum>=2.3.2 in /usr/local/lib/python3.6/dist-packages (from tf-nightly-gpu) (3.2.1)\n",
            "Requirement already satisfied: wrapt>=1.11.1 in /usr/local/lib/python3.6/dist-packages (from tf-nightly-gpu) (1.12.1)\n",
            "Requirement already satisfied: grpcio>=1.8.6 in /usr/local/lib/python3.6/dist-packages (from tf-nightly-gpu) (1.28.1)\n",
            "Requirement already satisfied: termcolor>=1.1.0 in /usr/local/lib/python3.6/dist-packages (from tf-nightly-gpu) (1.1.0)\n",
            "Requirement already satisfied: protobuf>=3.9.2 in /usr/local/lib/python3.6/dist-packages (from tf-nightly-gpu) (3.10.0)\n",
            "Requirement already satisfied: tensorboard-plugin-wit>=1.6.0 in /usr/local/lib/python3.6/dist-packages (from tb-nightly<2.4.0a0,>=2.3.0a0->tf-nightly-gpu) (1.6.0.post3)\n",
            "Requirement already satisfied: setuptools>=41.0.0 in /usr/local/lib/python3.6/dist-packages (from tb-nightly<2.4.0a0,>=2.3.0a0->tf-nightly-gpu) (46.1.3)\n",
            "Requirement already satisfied: google-auth-oauthlib<0.5,>=0.4.1 in /usr/local/lib/python3.6/dist-packages (from tb-nightly<2.4.0a0,>=2.3.0a0->tf-nightly-gpu) (0.4.1)\n",
            "Requirement already satisfied: google-auth<2,>=1.6.3 in /usr/local/lib/python3.6/dist-packages (from tb-nightly<2.4.0a0,>=2.3.0a0->tf-nightly-gpu) (1.7.2)\n",
            "Requirement already satisfied: werkzeug>=0.11.15 in /usr/local/lib/python3.6/dist-packages (from tb-nightly<2.4.0a0,>=2.3.0a0->tf-nightly-gpu) (1.0.1)\n",
            "Requirement already satisfied: requests<3,>=2.21.0 in /usr/local/lib/python3.6/dist-packages (from tb-nightly<2.4.0a0,>=2.3.0a0->tf-nightly-gpu) (2.23.0)\n",
            "Requirement already satisfied: markdown>=2.6.8 in /usr/local/lib/python3.6/dist-packages (from tb-nightly<2.4.0a0,>=2.3.0a0->tf-nightly-gpu) (3.2.1)\n",
            "Requirement already satisfied: requests-oauthlib>=0.7.0 in /usr/local/lib/python3.6/dist-packages (from google-auth-oauthlib<0.5,>=0.4.1->tb-nightly<2.4.0a0,>=2.3.0a0->tf-nightly-gpu) (1.3.0)\n",
            "Requirement already satisfied: rsa<4.1,>=3.1.4 in /usr/local/lib/python3.6/dist-packages (from google-auth<2,>=1.6.3->tb-nightly<2.4.0a0,>=2.3.0a0->tf-nightly-gpu) (4.0)\n",
            "Requirement already satisfied: pyasn1-modules>=0.2.1 in /usr/local/lib/python3.6/dist-packages (from google-auth<2,>=1.6.3->tb-nightly<2.4.0a0,>=2.3.0a0->tf-nightly-gpu) (0.2.8)\n",
            "Requirement already satisfied: cachetools<3.2,>=2.0.0 in /usr/local/lib/python3.6/dist-packages (from google-auth<2,>=1.6.3->tb-nightly<2.4.0a0,>=2.3.0a0->tf-nightly-gpu) (3.1.1)\n",
            "Requirement already satisfied: urllib3!=1.25.0,!=1.25.1,<1.26,>=1.21.1 in /usr/local/lib/python3.6/dist-packages (from requests<3,>=2.21.0->tb-nightly<2.4.0a0,>=2.3.0a0->tf-nightly-gpu) (1.24.3)\n",
            "Requirement already satisfied: certifi>=2017.4.17 in /usr/local/lib/python3.6/dist-packages (from requests<3,>=2.21.0->tb-nightly<2.4.0a0,>=2.3.0a0->tf-nightly-gpu) (2020.4.5.1)\n",
            "Requirement already satisfied: chardet<4,>=3.0.2 in /usr/local/lib/python3.6/dist-packages (from requests<3,>=2.21.0->tb-nightly<2.4.0a0,>=2.3.0a0->tf-nightly-gpu) (3.0.4)\n",
            "Requirement already satisfied: idna<3,>=2.5 in /usr/local/lib/python3.6/dist-packages (from requests<3,>=2.21.0->tb-nightly<2.4.0a0,>=2.3.0a0->tf-nightly-gpu) (2.9)\n",
            "Requirement already satisfied: oauthlib>=3.0.0 in /usr/local/lib/python3.6/dist-packages (from requests-oauthlib>=0.7.0->google-auth-oauthlib<0.5,>=0.4.1->tb-nightly<2.4.0a0,>=2.3.0a0->tf-nightly-gpu) (3.1.0)\n",
            "Requirement already satisfied: pyasn1>=0.1.3 in /usr/local/lib/python3.6/dist-packages (from rsa<4.1,>=3.1.4->google-auth<2,>=1.6.3->tb-nightly<2.4.0a0,>=2.3.0a0->tf-nightly-gpu) (0.4.8)\n",
            "Installing collected packages: tb-nightly, tf-estimator-nightly, tf-nightly-gpu\n",
            "Successfully installed tb-nightly-2.3.0a20200511 tf-estimator-nightly-2.3.0.dev2020051101 tf-nightly-gpu-2.2.0.dev20200508\n"
          ],
          "name": "stdout"
        },
        {
          "output_type": "display_data",
          "data": {
            "application/vnd.colab-display-data+json": {
              "pip_warning": {
                "packages": [
                  "tensorboard",
                  "tensorflow"
                ]
              }
            }
          },
          "metadata": {
            "tags": []
          }
        }
      ]
    },
    {
      "cell_type": "code",
      "metadata": {
        "id": "CnLOZhASlpYU",
        "colab_type": "code",
        "colab": {}
      },
      "source": [
        "# Imports\n",
        "import numpy as np\n",
        "import tensorflow as tf\n",
        "import tensorflow.keras.optimizers\n",
        "import tensorflow.keras.losses\n",
        "import matplotlib.pyplot as plt\n",
        "import seaborn as sns\n",
        "import datetime\n",
        "import json\n",
        "import os"
      ],
      "execution_count": 0,
      "outputs": []
    },
    {
      "cell_type": "code",
      "metadata": {
        "id": "C2D2bolj92Yv",
        "colab_type": "code",
        "colab": {
          "base_uri": "https://localhost:8080/",
          "height": 32
        },
        "outputId": "8eb83f7c-8033-42a3-f9e4-95c837910540"
      },
      "source": [
        "print(tf.__version__)"
      ],
      "execution_count": 2,
      "outputs": [
        {
          "output_type": "stream",
          "text": [
            "2.2.0\n"
          ],
          "name": "stdout"
        }
      ]
    },
    {
      "cell_type": "markdown",
      "metadata": {
        "id": "2NHa8LqG1PPL",
        "colab_type": "text"
      },
      "source": [
        "## Import and check data"
      ]
    },
    {
      "cell_type": "code",
      "metadata": {
        "id": "sJ2csDtHhwjh",
        "colab_type": "code",
        "colab": {
          "base_uri": "https://localhost:8080/",
          "height": 118
        },
        "outputId": "55f09882-e7da-4717-e694-b33dbcdc77c7"
      },
      "source": [
        "# Mount drive to access files\n",
        "\n",
        "from google.colab import drive\n",
        "drive.mount('/content/drive')"
      ],
      "execution_count": 3,
      "outputs": [
        {
          "output_type": "stream",
          "text": [
            "Go to this URL in a browser: https://accounts.google.com/o/oauth2/auth?client_id=947318989803-6bn6qk8qdgf4n4g3pfee6491hc0brc4i.apps.googleusercontent.com&redirect_uri=urn%3aietf%3awg%3aoauth%3a2.0%3aoob&response_type=code&scope=email%20https%3a%2f%2fwww.googleapis.com%2fauth%2fdocs.test%20https%3a%2f%2fwww.googleapis.com%2fauth%2fdrive%20https%3a%2f%2fwww.googleapis.com%2fauth%2fdrive.photos.readonly%20https%3a%2f%2fwww.googleapis.com%2fauth%2fpeopleapi.readonly\n",
            "\n",
            "Enter your authorization code:\n",
            "··········\n",
            "Mounted at /content/drive\n"
          ],
          "name": "stdout"
        }
      ]
    },
    {
      "cell_type": "code",
      "metadata": {
        "id": "TK1-jvEHkhkM",
        "colab_type": "code",
        "colab": {}
      },
      "source": [
        "# Paths\n",
        "train_y_path = \"/content/drive/My Drive/DD2424Files/train_y.npz\"\n",
        "val_y_path   = \"/content/drive/My Drive/DD2424Files/val_y.npz\"\n",
        "test_y_path  = \"/content/drive/My Drive/DD2424Files/test_y.npz\"\n",
        "\n",
        "train_X_path = \"/content/drive/My Drive/DD2424Files/train_X.npz\"\n",
        "val_X_path   = \"/content/drive/My Drive/DD2424Files/val_X.npz\"\n",
        "test_X_path  = \"/content/drive/My Drive/DD2424Files/test_X.npz\"\n",
        "\n",
        "train_X_mfcc_path = \"/content/drive/My Drive/DD2424Files/train_X_mfcc.npz\"\n",
        "val_X_mfcc_path   = \"/content/drive/My Drive/DD2424Files/val_X_mfcc.npz\"\n",
        "test_X_mfcc_path  = \"/content/drive/My Drive/DD2424Files/test_X_mfcc.npz\""
      ],
      "execution_count": 0,
      "outputs": []
    },
    {
      "cell_type": "code",
      "metadata": {
        "id": "Wz42DCwnlNSb",
        "colab_type": "code",
        "colab": {}
      },
      "source": [
        "# Import training and validation data\n",
        "train_y = np.load(train_y_path)['arr_0']\n",
        "train_y = tf.one_hot(train_y, 8)\n",
        "\n",
        "val_y = np.load(val_y_path)['arr_0']\n",
        "val_y = tf.one_hot(val_y, 8)\n",
        "\n",
        "train_X = tf.convert_to_tensor(np.expand_dims(np.load(train_X_path)['arr_0'], -1))\n",
        "val_X = tf.convert_to_tensor(np.expand_dims(np.load(val_X_path)['arr_0'], -1))\n",
        "#train_X_mfcc = np.load(train_X_mfcc_path)['arr_0']\n",
        "#val_X_mfcc = np.load(val_X_mfcc_path)['arr_0']"
      ],
      "execution_count": 0,
      "outputs": []
    },
    {
      "cell_type": "code",
      "metadata": {
        "id": "EQL8X6LzdMUR",
        "colab_type": "code",
        "colab": {
          "base_uri": "https://localhost:8080/",
          "height": 49
        },
        "outputId": "d1591355-3ffb-4327-d791-6b07c30c718e"
      },
      "source": [
        "# Check the data shape\n",
        "print(train_X.shape)\n",
        "print(val_X.shape)"
      ],
      "execution_count": 6,
      "outputs": [
        {
          "output_type": "stream",
          "text": [
            "(6397, 96, 1405, 1)\n",
            "(800, 96, 1405, 1)\n"
          ],
          "name": "stdout"
        }
      ]
    },
    {
      "cell_type": "code",
      "metadata": {
        "id": "_Uli9KOIl66I",
        "colab_type": "code",
        "colab": {}
      },
      "source": [
        "# Assert assumptions about data\n",
        "\n",
        "MEL_BINS   = 96\n",
        "TIME_STEPS = 1405\n",
        "\n",
        "def check_data(X, y):\n",
        "  assert len(y.shape) == 2\n",
        "  assert len(X.shape) == 4\n",
        "  assert y.shape[0] == X.shape[0]\n",
        "  assert X.shape[1] == MEL_BINS\n",
        "  assert X.shape[2] == TIME_STEPS\n",
        "  assert X.shape[3] == 1\n",
        "\n",
        "check_data(val_X, val_y)\n",
        "check_data(train_X, train_y)"
      ],
      "execution_count": 0,
      "outputs": []
    },
    {
      "cell_type": "markdown",
      "metadata": {
        "id": "Nb8UYWuu1xMj",
        "colab_type": "text"
      },
      "source": [
        "## The model"
      ]
    },
    {
      "cell_type": "code",
      "metadata": {
        "id": "kwasJAxusnXB",
        "colab_type": "code",
        "colab": {}
      },
      "source": [
        "# All model definitions\n",
        "\n",
        "def get_mlp_model():\n",
        "\n",
        "  mlp_model = tf.keras.models.Sequential([\n",
        "    tf.keras.layers.Flatten(),\n",
        "    #tf.keras.layers.Dense(128, activation='relu'),\n",
        "    #tf.keras.layers.Dropout(0.2),\n",
        "    tf.keras.layers.Dense(8)\n",
        "  ])\n",
        "  return mlp_model\n",
        "\n",
        "#-------------------------------------------------------\n",
        "\n",
        "def cnn1_model(hyperparams):\n",
        "  NUMBER_FILTERS_1 = hyperparams.get(\"number_filters_1\")\n",
        "  KERNEL_SIZE = hyperparams.get(\"kernel_size_1\")\n",
        "\n",
        "  model = tf.keras.models.Sequential([\n",
        "    tf.keras.layers.Conv2D(NUMBER_FILTERS_1, KERNEL_SIZE, padding = 'same', input_shape = (96, 1405, 1)),\n",
        "    tf.keras.layers.Flatten(),\n",
        "    tf.keras.layers.Dense(8)                             \n",
        "  ])\n",
        "  return model\n"
      ],
      "execution_count": 0,
      "outputs": []
    },
    {
      "cell_type": "code",
      "metadata": {
        "id": "3eFYkHJrnPHd",
        "colab_type": "code",
        "colab": {}
      },
      "source": [
        "# Utility functions for saving outputs\n",
        "\n",
        "def plot_history(history, val_string, loss_string):\n",
        "  # Plot results\n",
        "  plt.figure(1)\n",
        "  plt.plot(history.history['accuracy'])\n",
        "  plt.plot(history.history['val_accuracy'])\n",
        "  plt.xlabel('Epoch')\n",
        "  plt.ylabel('Acc')\n",
        "  plt.legend(['Accuracy', 'Validation accuracy'])\n",
        "  plt.title('Accuracy')\n",
        "  plt.savefig(val_string, dpi = 300)\n",
        "  plt.close()\n",
        "\n",
        "  plt.figure(2)\n",
        "  plt.plot(history.history['loss'])\n",
        "  plt.plot(history.history['val_loss'])\n",
        "  plt.xlabel('Epoch')\n",
        "  plt.ylabel('Loss')\n",
        "  plt.legend(['Loss', 'Validation loss'])\n",
        "  plt.title('Loss')\n",
        "  plt.savefig(loss_string, dpi = 300)\n",
        "  plt.close()\n",
        "\n",
        "def filename():\n",
        "\treturn str(datetime.datetime.now()).replace(':','.')[2:19]"
      ],
      "execution_count": 0,
      "outputs": []
    },
    {
      "cell_type": "code",
      "metadata": {
        "id": "7IoPP5XEA30h",
        "colab_type": "code",
        "colab": {}
      },
      "source": [
        "# Run an experiment\n",
        "\n",
        "def run_experiment(model, model_string, hyperparams):\n",
        "\n",
        "  file_location = \"/content/drive/My Drive/DD2424Files/Results/\" + filename() + \"/\"\n",
        "  os.mkdir(file_location)\n",
        "\n",
        "  # Compile model\n",
        "\n",
        "  optimizer = tf.keras.optimizers.Adam(learning_rate=hyperparams.get(\"learning_rate\"), epsilon=hyperparams.get(\"epsilon\"))\n",
        "  loss = tf.keras.losses.CategoricalCrossentropy(from_logits = True)\n",
        "  metrics = ['accuracy']\n",
        "\n",
        "  model.compile(optimizer = optimizer, loss = loss, metrics = metrics)\n",
        "\n",
        "  # Train model\n",
        "  BATCH_SIZE = hyperparams.get(\"batch_size\")\n",
        "  EPOCHS = hyperparams.get(\"epochs\")\n",
        "  tf.keras.backend.clear_session()\n",
        "\n",
        "  save_callback = tf.keras.callbacks.ModelCheckpoint(\n",
        "      file_location + \"models_\" + model_string, monitor='val_accuracy', verbose=0, save_best_only=True,\n",
        "      save_weights_only=False, mode='max', save_freq='epoch')\n",
        "\n",
        "  history = model.fit(train_X, train_y, batch_size=BATCH_SIZE, epochs=EPOCHS,\n",
        "                          validation_data=(val_X, val_y), verbose=1, callbacks = [save_callback])\n",
        "\n",
        "  # Save stuff\n",
        "  plot_history(history, file_location + \"acc_\" + model_string + \".png\", file_location + \"loss_\" + model_string + \".png\")\n",
        "  json.dump(history.history, open(file_location + \"history_\" + model_string, 'w'))\n",
        "  json.dump(hyperparams, open(file_location + \"hyperparams_\" + model_string, 'w'))\n",
        "\n",
        "  return history\n",
        "\n",
        "\n"
      ],
      "execution_count": 0,
      "outputs": []
    },
    {
      "cell_type": "code",
      "metadata": {
        "id": "elKyRtkctwqW",
        "colab_type": "code",
        "colab": {
          "base_uri": "https://localhost:8080/",
          "height": 168
        },
        "outputId": "6e7372a2-83b1-4fb5-bc21-5cbf3c352bb9"
      },
      "source": [
        "# Experiment 1\n",
        "\n",
        "hyperparams = {\"number_filters_1\" : 15,\n",
        "               \"kernel_size_1\" : (1, 4),\n",
        "               \"epsilon\": 0.01, \n",
        "               \"learning_rate\": 0.01, \n",
        "               \"batch_size\": 32, \n",
        "               \"epochs\": 2}\n",
        "\n",
        "model_string = \"cnn15-fc8\"\n",
        "model = cnn1_model(hyperparams)\n",
        "\n",
        "history = run_experiment(model, model_string, hyperparams)"
      ],
      "execution_count": 41,
      "outputs": [
        {
          "output_type": "stream",
          "text": [
            "15\n",
            "(1, 4)\n",
            "Epoch 1/2\n",
            "199/200 [============================>.] - ETA: 0s - loss: 19208.5430 - accuracy: 0.1454INFO:tensorflow:Assets written to: /content/drive/My Drive/DD2424Files/Results/20-05-11 22.41.10/models_cnn15-fc8/assets\n",
            "200/200 [==============================] - 10s 51ms/step - loss: 19124.6992 - accuracy: 0.1458 - val_loss: 729.0200 - val_accuracy: 0.1737\n",
            "Epoch 2/2\n",
            "199/200 [============================>.] - ETA: 0s - loss: 314.3699 - accuracy: 0.4488INFO:tensorflow:Assets written to: /content/drive/My Drive/DD2424Files/Results/20-05-11 22.41.10/models_cnn15-fc8/assets\n",
            "200/200 [==============================] - 11s 54ms/step - loss: 314.0475 - accuracy: 0.4491 - val_loss: 607.1850 - val_accuracy: 0.1825\n"
          ],
          "name": "stdout"
        }
      ]
    },
    {
      "cell_type": "code",
      "metadata": {
        "id": "quYaZtP5wWaY",
        "colab_type": "code",
        "colab": {}
      },
      "source": [
        ""
      ],
      "execution_count": 0,
      "outputs": []
    }
  ]
}